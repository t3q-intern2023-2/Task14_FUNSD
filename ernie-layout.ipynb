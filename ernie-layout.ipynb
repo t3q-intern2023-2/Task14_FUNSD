{
 "cells": [
  {
   "cell_type": "code",
   "execution_count": 6,
   "metadata": {},
   "outputs": [
    {
     "name": "stdout",
     "output_type": "stream",
     "text": [
      "Requirement already satisfied: paddlenlp in d:\\miniconda\\lib\\site-packages (2.5.2)\n",
      "Requirement already satisfied: paddlepaddle in d:\\miniconda\\lib\\site-packages (2.5.1)\n",
      "Collecting paddleocr\n",
      "  Using cached paddleocr-2.7.0.0-py3-none-any.whl (74.1 MB)\n",
      "Requirement already satisfied: jieba in d:\\miniconda\\lib\\site-packages (from paddlenlp) (0.42.1)\n",
      "Requirement already satisfied: colorlog in d:\\miniconda\\lib\\site-packages (from paddlenlp) (6.7.0)\n",
      "Requirement already satisfied: colorama in d:\\miniconda\\lib\\site-packages (from paddlenlp) (0.4.6)\n",
      "Requirement already satisfied: seqeval in d:\\miniconda\\lib\\site-packages (from paddlenlp) (1.2.2)\n",
      "Requirement already satisfied: dill<0.3.5 in d:\\miniconda\\lib\\site-packages (from paddlenlp) (0.3.4)\n",
      "Requirement already satisfied: multiprocess<=0.70.12.2 in d:\\miniconda\\lib\\site-packages (from paddlenlp) (0.70.12.2)\n",
      "Requirement already satisfied: datasets>=2.0.0 in d:\\miniconda\\lib\\site-packages (from paddlenlp) (2.14.2)\n",
      "Requirement already satisfied: tqdm in d:\\miniconda\\lib\\site-packages (from paddlenlp) (4.65.0)\n",
      "Requirement already satisfied: paddlefsl in d:\\miniconda\\lib\\site-packages (from paddlenlp) (1.1.0)\n",
      "Requirement already satisfied: sentencepiece in d:\\miniconda\\lib\\site-packages (from paddlenlp) (0.1.99)\n",
      "Requirement already satisfied: huggingface-hub>=0.11.1 in d:\\miniconda\\lib\\site-packages (from paddlenlp) (0.16.4)\n",
      "Requirement already satisfied: paddle2onnx in d:\\miniconda\\lib\\site-packages (from paddlenlp) (1.0.6)\n",
      "Requirement already satisfied: Flask-Babel<3.0.0 in d:\\miniconda\\lib\\site-packages (from paddlenlp) (2.0.0)\n",
      "Requirement already satisfied: visualdl in d:\\miniconda\\lib\\site-packages (from paddlenlp) (2.4.2)\n",
      "Requirement already satisfied: fastapi in d:\\miniconda\\lib\\site-packages (from paddlenlp) (0.100.1)\n",
      "Requirement already satisfied: uvicorn in d:\\miniconda\\lib\\site-packages (from paddlenlp) (0.23.2)\n",
      "Requirement already satisfied: typer in d:\\miniconda\\lib\\site-packages (from paddlenlp) (0.9.0)\n",
      "Requirement already satisfied: rich in d:\\miniconda\\lib\\site-packages (from paddlenlp) (13.5.0)\n",
      "Requirement already satisfied: httpx in d:\\miniconda\\lib\\site-packages (from paddlepaddle) (0.24.1)\n",
      "Requirement already satisfied: numpy>=1.13 in d:\\miniconda\\lib\\site-packages (from paddlepaddle) (1.23.5)\n",
      "Requirement already satisfied: Pillow in d:\\miniconda\\lib\\site-packages (from paddlepaddle) (10.0.0)\n",
      "Requirement already satisfied: decorator in d:\\miniconda\\lib\\site-packages (from paddlepaddle) (5.1.1)\n",
      "Requirement already satisfied: astor in d:\\miniconda\\lib\\site-packages (from paddlepaddle) (0.8.1)\n",
      "Requirement already satisfied: paddle-bfloat==0.1.7 in d:\\miniconda\\lib\\site-packages (from paddlepaddle) (0.1.7)\n",
      "Requirement already satisfied: opt-einsum==3.3.0 in d:\\miniconda\\lib\\site-packages (from paddlepaddle) (3.3.0)\n",
      "Requirement already satisfied: protobuf<=3.20.2,>=3.1.0 in d:\\miniconda\\lib\\site-packages (from paddlepaddle) (3.20.2)\n",
      "Requirement already satisfied: shapely in d:\\miniconda\\lib\\site-packages (from paddleocr) (2.0.1)\n",
      "Requirement already satisfied: scikit-image in d:\\miniconda\\lib\\site-packages (from paddleocr) (0.21.0)\n",
      "Collecting imgaug (from paddleocr)\n",
      "  Using cached imgaug-0.4.0-py2.py3-none-any.whl (948 kB)\n",
      "Requirement already satisfied: pyclipper in d:\\miniconda\\lib\\site-packages (from paddleocr) (1.3.0.post4)\n",
      "Requirement already satisfied: lmdb in d:\\miniconda\\lib\\site-packages (from paddleocr) (1.4.1)\n",
      "Requirement already satisfied: rapidfuzz in d:\\miniconda\\lib\\site-packages (from paddleocr) (3.2.0)\n",
      "Collecting opencv-python<=4.6.0.66 (from paddleocr)\n",
      "  Using cached opencv_python-4.6.0.66-cp36-abi3-win_amd64.whl (35.6 MB)\n",
      "Collecting opencv-contrib-python<=4.6.0.66 (from paddleocr)\n",
      "  Using cached opencv_contrib_python-4.6.0.66-cp36-abi3-win_amd64.whl (42.5 MB)\n",
      "Requirement already satisfied: cython in d:\\miniconda\\lib\\site-packages (from paddleocr) (3.0.0)\n",
      "Requirement already satisfied: lxml in d:\\miniconda\\lib\\site-packages (from paddleocr) (4.9.2)\n",
      "Collecting premailer (from paddleocr)\n",
      "  Using cached premailer-3.10.0-py2.py3-none-any.whl (19 kB)\n",
      "Collecting openpyxl (from paddleocr)\n",
      "  Using cached openpyxl-3.1.2-py2.py3-none-any.whl (249 kB)\n",
      "Collecting attrdict (from paddleocr)\n",
      "  Using cached attrdict-2.0.1-py2.py3-none-any.whl (9.9 kB)\n",
      "Requirement already satisfied: PyMuPDF<1.21.0 in d:\\miniconda\\lib\\site-packages (from paddleocr) (1.20.2)\n",
      "Requirement already satisfied: python-docx in d:\\miniconda\\lib\\site-packages (from paddleocr) (0.8.11)\n",
      "Requirement already satisfied: beautifulsoup4 in d:\\miniconda\\lib\\site-packages (from paddleocr) (4.12.2)\n",
      "Requirement already satisfied: fonttools>=4.24.0 in d:\\miniconda\\lib\\site-packages (from paddleocr) (4.41.1)\n",
      "Collecting fire>=0.3.0 (from paddleocr)\n",
      "  Using cached fire-0.5.0-py2.py3-none-any.whl\n",
      "Collecting pdf2docx (from paddleocr)\n",
      "  Using cached pdf2docx-0.5.6-py3-none-any.whl (148 kB)\n",
      "Requirement already satisfied: pyarrow>=8.0.0 in d:\\miniconda\\lib\\site-packages (from datasets>=2.0.0->paddlenlp) (12.0.1)\n",
      "Requirement already satisfied: pandas in d:\\miniconda\\lib\\site-packages (from datasets>=2.0.0->paddlenlp) (2.0.3)\n",
      "Requirement already satisfied: requests>=2.19.0 in d:\\miniconda\\lib\\site-packages (from datasets>=2.0.0->paddlenlp) (2.29.0)\n",
      "Requirement already satisfied: xxhash in d:\\miniconda\\lib\\site-packages (from datasets>=2.0.0->paddlenlp) (3.3.0)\n",
      "Requirement already satisfied: fsspec[http]>=2021.11.1 in d:\\miniconda\\lib\\site-packages (from datasets>=2.0.0->paddlenlp) (2023.6.0)\n",
      "Requirement already satisfied: aiohttp in d:\\miniconda\\lib\\site-packages (from datasets>=2.0.0->paddlenlp) (3.8.5)\n",
      "Requirement already satisfied: packaging in d:\\miniconda\\lib\\site-packages (from datasets>=2.0.0->paddlenlp) (23.0)\n",
      "Requirement already satisfied: pyyaml>=5.1 in d:\\miniconda\\lib\\site-packages (from datasets>=2.0.0->paddlenlp) (6.0)\n",
      "Requirement already satisfied: six in d:\\miniconda\\lib\\site-packages (from fire>=0.3.0->paddleocr) (1.16.0)\n",
      "Requirement already satisfied: termcolor in d:\\miniconda\\lib\\site-packages (from fire>=0.3.0->paddleocr) (2.3.0)\n",
      "Requirement already satisfied: pytz in d:\\miniconda\\lib\\site-packages (from Flask-Babel<3.0.0->paddlenlp) (2022.7)\n",
      "Requirement already satisfied: Flask in d:\\miniconda\\lib\\site-packages (from Flask-Babel<3.0.0->paddlenlp) (2.3.2)\n",
      "Requirement already satisfied: Babel>=2.3 in d:\\miniconda\\lib\\site-packages (from Flask-Babel<3.0.0->paddlenlp) (2.11.0)\n",
      "Requirement already satisfied: Jinja2>=2.5 in d:\\miniconda\\lib\\site-packages (from Flask-Babel<3.0.0->paddlenlp) (3.1.2)\n",
      "Requirement already satisfied: filelock in d:\\miniconda\\lib\\site-packages (from huggingface-hub>=0.11.1->paddlenlp) (3.12.2)\n",
      "Requirement already satisfied: typing-extensions>=3.7.4.3 in d:\\miniconda\\lib\\site-packages (from huggingface-hub>=0.11.1->paddlenlp) (4.5.0)\n",
      "Requirement already satisfied: soupsieve>1.2 in d:\\miniconda\\lib\\site-packages (from beautifulsoup4->paddleocr) (2.4)\n",
      "Requirement already satisfied: pydantic!=1.8,!=1.8.1,!=2.0.0,!=2.0.1,<3.0.0,>=1.7.4 in d:\\miniconda\\lib\\site-packages (from fastapi->paddlenlp) (1.10.11)\n",
      "Requirement already satisfied: starlette<0.28.0,>=0.27.0 in d:\\miniconda\\lib\\site-packages (from fastapi->paddlenlp) (0.27.0)\n",
      "Requirement already satisfied: certifi in d:\\miniconda\\lib\\site-packages (from httpx->paddlepaddle) (2023.5.7)\n",
      "Requirement already satisfied: httpcore<0.18.0,>=0.15.0 in d:\\miniconda\\lib\\site-packages (from httpx->paddlepaddle) (0.17.3)\n",
      "Requirement already satisfied: idna in d:\\miniconda\\lib\\site-packages (from httpx->paddlepaddle) (3.4)\n",
      "Requirement already satisfied: sniffio in d:\\miniconda\\lib\\site-packages (from httpx->paddlepaddle) (1.2.0)\n",
      "Requirement already satisfied: scipy in d:\\miniconda\\lib\\site-packages (from imgaug->paddleocr) (1.11.1)\n",
      "Requirement already satisfied: matplotlib in d:\\miniconda\\lib\\site-packages (from imgaug->paddleocr) (3.7.2)\n",
      "Requirement already satisfied: imageio in d:\\miniconda\\lib\\site-packages (from imgaug->paddleocr) (2.31.1)\n",
      "Requirement already satisfied: networkx>=2.8 in d:\\miniconda\\lib\\site-packages (from scikit-image->paddleocr) (3.1)\n",
      "Requirement already satisfied: tifffile>=2022.8.12 in d:\\miniconda\\lib\\site-packages (from scikit-image->paddleocr) (2023.7.18)\n",
      "Requirement already satisfied: PyWavelets>=1.1.1 in d:\\miniconda\\lib\\site-packages (from scikit-image->paddleocr) (1.4.1)\n",
      "Requirement already satisfied: lazy_loader>=0.2 in d:\\miniconda\\lib\\site-packages (from scikit-image->paddleocr) (0.3)\n",
      "Collecting et-xmlfile (from openpyxl->paddleocr)\n",
      "  Using cached et_xmlfile-1.1.0-py3-none-any.whl (4.7 kB)\n",
      "Collecting cssselect (from premailer->paddleocr)\n",
      "  Using cached cssselect-1.2.0-py2.py3-none-any.whl (18 kB)\n",
      "Collecting cssutils (from premailer->paddleocr)\n",
      "  Using cached cssutils-2.7.1-py3-none-any.whl (399 kB)\n",
      "Requirement already satisfied: cachetools in d:\\miniconda\\lib\\site-packages (from premailer->paddleocr) (5.3.1)\n",
      "Requirement already satisfied: markdown-it-py>=2.2.0 in d:\\miniconda\\lib\\site-packages (from rich->paddlenlp) (3.0.0)\n",
      "Requirement already satisfied: pygments<3.0.0,>=2.13.0 in d:\\miniconda\\lib\\site-packages (from rich->paddlenlp) (2.15.1)\n",
      "Requirement already satisfied: scikit-learn>=0.21.3 in d:\\miniconda\\lib\\site-packages (from seqeval->paddlenlp) (1.3.0)\n",
      "Requirement already satisfied: click<9.0.0,>=7.1.1 in d:\\miniconda\\lib\\site-packages (from typer->paddlenlp) (8.1.5)\n",
      "Requirement already satisfied: h11>=0.8 in d:\\miniconda\\lib\\site-packages (from uvicorn->paddlenlp) (0.14.0)\n",
      "Requirement already satisfied: bce-python-sdk in d:\\miniconda\\lib\\site-packages (from visualdl->paddlenlp) (0.8.87)\n",
      "Requirement already satisfied: Werkzeug>=2.3.3 in d:\\miniconda\\lib\\site-packages (from Flask->Flask-Babel<3.0.0->paddlenlp) (2.3.6)\n",
      "Requirement already satisfied: itsdangerous>=2.1.2 in d:\\miniconda\\lib\\site-packages (from Flask->Flask-Babel<3.0.0->paddlenlp) (2.1.2)\n",
      "Requirement already satisfied: blinker>=1.6.2 in d:\\miniconda\\lib\\site-packages (from Flask->Flask-Babel<3.0.0->paddlenlp) (1.6.2)\n",
      "Requirement already satisfied: attrs>=17.3.0 in d:\\miniconda\\lib\\site-packages (from aiohttp->datasets>=2.0.0->paddlenlp) (22.1.0)\n",
      "Requirement already satisfied: charset-normalizer<4.0,>=2.0 in d:\\miniconda\\lib\\site-packages (from aiohttp->datasets>=2.0.0->paddlenlp) (2.0.4)\n",
      "Requirement already satisfied: multidict<7.0,>=4.5 in d:\\miniconda\\lib\\site-packages (from aiohttp->datasets>=2.0.0->paddlenlp) (6.0.4)\n",
      "Requirement already satisfied: async-timeout<5.0,>=4.0.0a3 in d:\\miniconda\\lib\\site-packages (from aiohttp->datasets>=2.0.0->paddlenlp) (4.0.2)\n",
      "Requirement already satisfied: yarl<2.0,>=1.0 in d:\\miniconda\\lib\\site-packages (from aiohttp->datasets>=2.0.0->paddlenlp) (1.9.2)\n",
      "Requirement already satisfied: frozenlist>=1.1.1 in d:\\miniconda\\lib\\site-packages (from aiohttp->datasets>=2.0.0->paddlenlp) (1.4.0)\n",
      "Requirement already satisfied: aiosignal>=1.1.2 in d:\\miniconda\\lib\\site-packages (from aiohttp->datasets>=2.0.0->paddlenlp) (1.3.1)\n",
      "Requirement already satisfied: anyio<5.0,>=3.0 in d:\\miniconda\\lib\\site-packages (from httpcore<0.18.0,>=0.15.0->httpx->paddlepaddle) (3.5.0)\n",
      "Requirement already satisfied: MarkupSafe>=2.0 in d:\\miniconda\\lib\\site-packages (from Jinja2>=2.5->Flask-Babel<3.0.0->paddlenlp) (2.1.1)\n",
      "Requirement already satisfied: mdurl~=0.1 in d:\\miniconda\\lib\\site-packages (from markdown-it-py>=2.2.0->rich->paddlenlp) (0.1.2)\n",
      "Requirement already satisfied: urllib3<1.27,>=1.21.1 in d:\\miniconda\\lib\\site-packages (from requests>=2.19.0->datasets>=2.0.0->paddlenlp) (1.26.16)\n",
      "Requirement already satisfied: joblib>=1.1.1 in d:\\miniconda\\lib\\site-packages (from scikit-learn>=0.21.3->seqeval->paddlenlp) (1.3.1)\n",
      "Requirement already satisfied: threadpoolctl>=2.0.0 in d:\\miniconda\\lib\\site-packages (from scikit-learn>=0.21.3->seqeval->paddlenlp) (3.2.0)\n",
      "Requirement already satisfied: pycryptodome>=3.8.0 in d:\\miniconda\\lib\\site-packages (from bce-python-sdk->visualdl->paddlenlp) (3.18.0)\n",
      "Requirement already satisfied: future>=0.6.0 in d:\\miniconda\\lib\\site-packages (from bce-python-sdk->visualdl->paddlenlp) (0.18.3)\n",
      "Requirement already satisfied: contourpy>=1.0.1 in d:\\miniconda\\lib\\site-packages (from matplotlib->imgaug->paddleocr) (1.1.0)\n",
      "Requirement already satisfied: cycler>=0.10 in d:\\miniconda\\lib\\site-packages (from matplotlib->imgaug->paddleocr) (0.11.0)\n",
      "Requirement already satisfied: kiwisolver>=1.0.1 in d:\\miniconda\\lib\\site-packages (from matplotlib->imgaug->paddleocr) (1.4.4)\n",
      "Requirement already satisfied: pyparsing<3.1,>=2.3.1 in d:\\miniconda\\lib\\site-packages (from matplotlib->imgaug->paddleocr) (3.0.9)\n",
      "Requirement already satisfied: python-dateutil>=2.7 in d:\\miniconda\\lib\\site-packages (from matplotlib->imgaug->paddleocr) (2.8.2)\n",
      "Requirement already satisfied: tzdata>=2022.1 in d:\\miniconda\\lib\\site-packages (from pandas->datasets>=2.0.0->paddlenlp) (2023.3)\n",
      "Installing collected packages: opencv-python, opencv-contrib-python, fire, et-xmlfile, cssutils, cssselect, attrdict, premailer, pdf2docx, openpyxl, imgaug, paddleocr\n",
      "Successfully installed attrdict-2.0.1 cssselect-1.2.0 cssutils-2.7.1 et-xmlfile-1.1.0 fire-0.5.0 imgaug-0.4.0 opencv-contrib-python-4.6.0.66 opencv-python-4.6.0.66 openpyxl-3.1.2 paddleocr-2.7.0.0 pdf2docx-0.5.6 premailer-3.10.0\n"
     ]
    },
    {
     "name": "stderr",
     "output_type": "stream",
     "text": [
      "WARNING: Ignoring invalid distribution -illow (d:\\miniconda\\lib\\site-packages)\n",
      "WARNING: Ignoring invalid distribution -illow (d:\\miniconda\\lib\\site-packages)\n",
      "  WARNING: The scripts csscapture.exe, csscombine.exe and cssparse.exe are installed in 'C:\\Users\\ADMIN\\AppData\\Roaming\\Python\\Python310\\Scripts' which is not on PATH.\n",
      "  Consider adding this directory to PATH or, if you prefer to suppress this warning, use --no-warn-script-location.\n",
      "  WARNING: The script pdf2docx.exe is installed in 'C:\\Users\\ADMIN\\AppData\\Roaming\\Python\\Python310\\Scripts' which is not on PATH.\n",
      "  Consider adding this directory to PATH or, if you prefer to suppress this warning, use --no-warn-script-location.\n",
      "  WARNING: The script paddleocr.exe is installed in 'C:\\Users\\ADMIN\\AppData\\Roaming\\Python\\Python310\\Scripts' which is not on PATH.\n",
      "  Consider adding this directory to PATH or, if you prefer to suppress this warning, use --no-warn-script-location.\n"
     ]
    }
   ],
   "source": [
    "!pip install paddlenlp paddlepaddle paddleocr --user"
   ]
  },
  {
   "cell_type": "code",
   "execution_count": 1,
   "metadata": {},
   "outputs": [
    {
     "name": "stderr",
     "output_type": "stream",
     "text": [
      "d:\\miniconda\\lib\\site-packages\\_distutils_hack\\__init__.py:33: UserWarning: Setuptools is replacing distutils.\n",
      "  warnings.warn(\"Setuptools is replacing distutils.\")\n",
      "\u001b[32m[2023-08-10 13:37:49,057] [    INFO]\u001b[0m - We are using <class 'paddlenlp.transformers.ernie_layout.tokenizer.ErnieLayoutTokenizer'> to load 'ernie-layoutx-base-uncased'.\u001b[0m\n",
      "\u001b[32m[2023-08-10 13:37:49,061] [    INFO]\u001b[0m - Already cached C:\\Users\\ADMIN\\.paddlenlp\\models\\ernie-layoutx-base-uncased\\vocab.txt\u001b[0m\n",
      "\u001b[32m[2023-08-10 13:37:49,064] [    INFO]\u001b[0m - Already cached C:\\Users\\ADMIN\\.paddlenlp\\models\\ernie-layoutx-base-uncased\\sentencepiece.bpe.model\u001b[0m\n",
      "\u001b[32m[2023-08-10 13:37:50,265] [    INFO]\u001b[0m - tokenizer config file saved in C:\\Users\\ADMIN\\.paddlenlp\\models\\ernie-layoutx-base-uncased\\tokenizer_config.json\u001b[0m\n",
      "\u001b[32m[2023-08-10 13:37:50,281] [    INFO]\u001b[0m - Special tokens file saved in C:\\Users\\ADMIN\\.paddlenlp\\models\\ernie-layoutx-base-uncased\\special_tokens_map.json\u001b[0m\n"
     ]
    }
   ],
   "source": [
    "from paddlenlp import Taskflow\n",
    "from pprint import pprint\n",
    "\n",
    "docprompt = Taskflow('document_intelligence', lang='korean')\n"
   ]
  },
  {
   "cell_type": "code",
   "execution_count": null,
   "metadata": {},
   "outputs": [],
   "source": [
    "pprint(docprompt([{\n",
    "    'doc':'./sheet1.png',\n",
    "    'prompt': ['what is rated capacity?', 'what is normal hydraulic power?', 'elevation (MSL) value?']\n",
    "}]))"
   ]
  },
  {
   "cell_type": "code",
   "execution_count": 6,
   "metadata": {},
   "outputs": [
    {
     "name": "stdout",
     "output_type": "stream",
     "text": [
      "[{'prompt': 'which liquid is used?',\n",
      "  'result': [{'end': 215,\n",
      "              'prob': 0.99,\n",
      "              'start': 205,\n",
      "              'value': 'LEAN AMINE (MDEA+H2O+H2S)'}]},\n",
      " {'prompt': 'let me know characteristics about liquid',\n",
      "  'result': [{'end': 237,\n",
      "              'prob': 0.95,\n",
      "              'start': 232,\n",
      "              'value': ':HAZARDOUS & FLAMMABLE'}]}]\n"
     ]
    }
   ],
   "source": [
    "pprint(docprompt([{\n",
    "    'doc':'./sheet1.png',\n",
    "    'prompt': ['which liquid is used?', 'let me know characteristics about liquid']\n",
    "}]))"
   ]
  },
  {
   "cell_type": "code",
   "execution_count": 10,
   "metadata": {},
   "outputs": [
    {
     "name": "stdout",
     "output_type": "stream",
     "text": [
      "[{'prompt': 'what is the title of this document?',\n",
      "  'result': [{'end': 8,\n",
      "              'prob': 0.97,\n",
      "              'start': 0,\n",
      "              'value': 'CENTRIFUGAL PUMP DATA SHEET A'}]},\n",
      " {'prompt': 'what is the number of motor driven?',\n",
      "  'result': [{'end': 80, 'prob': 0.62, 'start': 80, 'value': '2'}]}]\n"
     ]
    }
   ],
   "source": [
    "pprint(docprompt([{\n",
    "    'doc':'./sheet1.png',\n",
    "    'prompt': ['what is the title of this document?', 'what is the number of motor driven?']\n",
    "}]))"
   ]
  },
  {
   "cell_type": "code",
   "execution_count": 2,
   "metadata": {},
   "outputs": [
    {
     "name": "stdout",
     "output_type": "stream",
     "text": [
      "[{'prompt': 'what is max allowable sound press level?',\n",
      "  'result': [{'end': 700, 'prob': 0.74, 'start': 697, 'value': '85(dBA)'}]},\n",
      " {'prompt': 'sheet number of this page?',\n",
      "  'result': [{'end': 888, 'prob': 0.89, 'start': 888, 'value': '3'}]}]\n"
     ]
    }
   ],
   "source": [
    "pprint(docprompt([{\n",
    "    'doc':'./sheet1.png',\n",
    "    'prompt': ['what is max allowable sound press level?', 'sheet number of this page?']\n",
    "}]))"
   ]
  },
  {
   "cell_type": "code",
   "execution_count": 3,
   "metadata": {},
   "outputs": [
    {
     "name": "stdout",
     "output_type": "stream",
     "text": [
      "[{'prompt': 'total page?',\n",
      "  'result': [{'end': -1, 'prob': 0.0, 'start': -1, 'value': ''}]}]\n"
     ]
    }
   ],
   "source": [
    "pprint(docprompt([{\n",
    "    'doc':'./sheet1.png',\n",
    "    'prompt': ['total page?']\n",
    "}]))"
   ]
  },
  {
   "cell_type": "code",
   "execution_count": 9,
   "metadata": {},
   "outputs": [
    {
     "name": "stdout",
     "output_type": "stream",
     "text": [
      "[{'prompt': 'cosignee name and address',\n",
      "  'result': [{'end': 87,\n",
      "              'prob': 0.91,\n",
      "              'start': 78,\n",
      "              'value': 'MERMES TRAVEL & CARGO PVT.'}]}]\n"
     ]
    }
   ],
   "source": [
    "pprint(docprompt([{\n",
    "    'doc':'./1-1.png',\n",
    "    'prompt': ['cosignee name and address']\n",
    "}]))"
   ]
  },
  {
   "cell_type": "code",
   "execution_count": 5,
   "metadata": {},
   "outputs": [
    {
     "name": "stdout",
     "output_type": "stream",
     "text": [
      "[{'prompt': 'title',\n",
      "  'result': [{'end': 12,\n",
      "              'prob': 1.0,\n",
      "              'start': 5,\n",
      "              'value': 'PURCHASECENTRIFUGAL PUMP DATA SHEET'}]}]\n"
     ]
    }
   ],
   "source": [
    "pprint(docprompt([{\n",
    "    'doc':'./rotate1.png',\n",
    "    'prompt': ['title']\n",
    "}]))"
   ]
  },
  {
   "cell_type": "code",
   "execution_count": 8,
   "metadata": {},
   "outputs": [
    {
     "name": "stdout",
     "output_type": "stream",
     "text": [
      "[{'prompt': 'consignee',\n",
      "  'result': [{'end': 107,\n",
      "              'prob': 0.9,\n",
      "              'start': 95,\n",
      "              'value': 'TO THE ORDER OF KEB HANA BANK'}]}]\n"
     ]
    }
   ],
   "source": [
    "pprint(docprompt([{\n",
    "    'doc':'./11.tif',\n",
    "    'prompt': ['consignee']\n",
    "}]))"
   ]
  },
  {
   "cell_type": "code",
   "execution_count": 4,
   "metadata": {},
   "outputs": [
    {
     "name": "stdout",
     "output_type": "stream",
     "text": [
      "[{'prompt': '제목',\n",
      "  'result': [{'end': 631, 'prob': 0.82, 'start': 631, 'value': '1'}]},\n",
      " {'prompt': '포장수',\n",
      "  'result': [{'end': 196, 'prob': 0.91, 'start': 195, 'value': '1290CARTON'}]}]\n"
     ]
    }
   ],
   "source": [
    "pprint(docprompt([{\n",
    "    'doc':'./11.tif',\n",
    "    'prompt': ['제목', '포장수']\n",
    "}]))"
   ]
  },
  {
   "cell_type": "code",
   "execution_count": 2,
   "metadata": {},
   "outputs": [
    {
     "name": "stdout",
     "output_type": "stream",
     "text": [
      "[{'prompt': '배 이름',\n",
      "  'result': [{'end': 59,\n",
      "              'prob': 0.86,\n",
      "              'start': 56,\n",
      "              'value': 'OCEANNETWORKEXPRESSPTELTD'}]},\n",
      " {'prompt': '보내는 사람',\n",
      "  'result': [{'end': 94,\n",
      "              'prob': 0.92,\n",
      "              'start': 92,\n",
      "              'value': 'BRODRENESPERREAS'}]}]\n"
     ]
    }
   ],
   "source": [
    "pprint(docprompt([{\n",
    "    'doc':'./11.tif',\n",
    "    'prompt': ['배 이름', '보내는 사람']\n",
    "}]))"
   ]
  }
 ],
 "metadata": {
  "kernelspec": {
   "display_name": "base",
   "language": "python",
   "name": "python3"
  },
  "language_info": {
   "codemirror_mode": {
    "name": "ipython",
    "version": 3
   },
   "file_extension": ".py",
   "mimetype": "text/x-python",
   "name": "python",
   "nbconvert_exporter": "python",
   "pygments_lexer": "ipython3",
   "version": "3.10.12"
  },
  "orig_nbformat": 4
 },
 "nbformat": 4,
 "nbformat_minor": 2
}
